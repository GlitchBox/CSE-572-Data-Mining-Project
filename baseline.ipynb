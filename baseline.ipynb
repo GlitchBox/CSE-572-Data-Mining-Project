{
 "cells": [
  {
   "cell_type": "code",
   "execution_count": 1,
   "metadata": {},
   "outputs": [],
   "source": [
    "# data analysis and wrangling\n",
    "import pandas as pd\n",
    "import numpy as np\n",
    "import random as rnd\n",
    "\n",
    "# visualization\n",
    "import seaborn as sns\n",
    "import matplotlib.pyplot as plt\n",
    "%matplotlib inline\n",
    "\n",
    "# machine learning\n",
    "from sklearn.linear_model import LogisticRegression\n",
    "from sklearn.svm import SVC, LinearSVC\n",
    "from sklearn.ensemble import RandomForestClassifier\n",
    "from sklearn.neighbors import KNeighborsClassifier\n",
    "from sklearn.naive_bayes import GaussianNB\n",
    "from sklearn.linear_model import Perceptron\n",
    "from sklearn.linear_model import SGDClassifier\n",
    "from sklearn.tree import DecisionTreeClassifier"
   ]
  },
  {
   "cell_type": "code",
   "execution_count": 2,
   "metadata": {},
   "outputs": [],
   "source": [
    "train_df = pd.read_csv('./heart-attack-risk-analysis-dataset/train.csv')\n",
    "test_df = pd.read_csv('./heart-attack-risk-analysis-dataset/test.csv')\n",
    "# combine = [train_df, test_df]"
   ]
  },
  {
   "cell_type": "code",
   "execution_count": null,
   "metadata": {},
   "outputs": [],
   "source": [
    "print(train_df.columns.values)"
   ]
  },
  {
   "cell_type": "code",
   "execution_count": null,
   "metadata": {},
   "outputs": [],
   "source": [
    "train_df.head(10)"
   ]
  },
  {
   "cell_type": "code",
   "execution_count": null,
   "metadata": {},
   "outputs": [],
   "source": [
    "train_df.tail(10)"
   ]
  },
  {
   "cell_type": "code",
   "execution_count": null,
   "metadata": {},
   "outputs": [],
   "source": [
    "train_df.info()\n",
    "print('_'*40)\n",
    "test_df.info()"
   ]
  },
  {
   "cell_type": "markdown",
   "metadata": {},
   "source": [
    "* Above 50% of the patients are over 53 y/0 - This also appears to be a Normal distribution - mean == median. Could also be any other kind of\n",
    "    symmetrical distribution [Continuous]\n",
    "* Cholesterol seems to be a Gaussian distribution. Median and Mean seem to revolve around 259 [Continuous]\n",
    "* The same goes for hear rate [Continuous]\n",
    "* 50% or more people have diabetes [Binary]\n",
    "* Around 25% of the people have family history [Binary]\n",
    "* Around 75% or more people smoke [Binary]\n",
    "* Around 25% of the people are obese [Binary]\n",
    "* 50% or more people consume alcohol [Binary]\n",
    "* Exercise per week appears to be a symmetrical distribution (mean == median) with mean around 10 [Continuous]\n",
    "* About 25% people have previous heart problems [Binary]\n",
    "* 50% or more people use medicine [Binary]\n",
    "* Stress Level - appears to be a symmetrical distribution [Continuous]\n",
    "* Sedentary hours per day - appears to be symmetrical [Continuous]\n",
    "* Income also appears to be a symmetrical distribution [Continuous]\n",
    "* BMI appears to be a symmetrical distribution [Continuous]\n",
    "* Trigylcerida also appears to be a symmetrical distribution [Continuous]\n",
    "* Physical Activity days per week appears to be a symmetrical distribution [Continuous]\n",
    "* Sleep hours per day also appears to be a symmetrical distribution [Continuous]\n",
    "* Around 25% of the people have heart attack risk\n",
    "\n",
    "\n",
    "* **Continuous to Categorical**: Age, Cholesterol, heart rate, exercise per week, stress level, sedentary hours, income, bmi, triglyceride, physical activities, sleep  hours per day"
   ]
  },
  {
   "cell_type": "code",
   "execution_count": null,
   "metadata": {},
   "outputs": [],
   "source": [
    "train_df.describe()"
   ]
  },
  {
   "cell_type": "markdown",
   "metadata": {},
   "source": [
    "* More males \n",
    "* Interesting a lot of people have the same blood pressures - there are only 3590 unique pressures. Maybe we could engineer a feature: the sum"
   ]
  },
  {
   "cell_type": "code",
   "execution_count": null,
   "metadata": {},
   "outputs": [],
   "source": [
    "train_df.describe(include=['O'])"
   ]
  },
  {
   "cell_type": "markdown",
   "metadata": {},
   "source": [
    "## **Visualizing Categorical Data**\n",
    "* Looks like sex, Diet, Country, Hemisphere is not all that useful\n",
    "* Continent might be slightly useful - Americas, Africa and Australia lead to higher heart attack risk\n",
    "* It might be worth grouping countries - first world country (higher risk), third world countries (lower risk) etc."
   ]
  },
  {
   "cell_type": "code",
   "execution_count": null,
   "metadata": {},
   "outputs": [],
   "source": [
    "train_df[['Sex', 'Heart Attack Risk']].groupby(['Sex'], as_index=False).mean().sort_values(by='Sex', ascending=False)"
   ]
  },
  {
   "cell_type": "code",
   "execution_count": null,
   "metadata": {},
   "outputs": [],
   "source": [
    "train_df[['Diet', 'Heart Attack Risk']].groupby(['Diet'], as_index=False).mean().sort_values(by='Diet', ascending=False)"
   ]
  },
  {
   "cell_type": "code",
   "execution_count": null,
   "metadata": {},
   "outputs": [],
   "source": [
    "train_df[['Country', 'Heart Attack Risk']].groupby(['Country'], as_index=False).mean().sort_values(by='Country', ascending=False)"
   ]
  },
  {
   "cell_type": "code",
   "execution_count": null,
   "metadata": {},
   "outputs": [],
   "source": [
    "train_df[['Continent', 'Heart Attack Risk']].groupby(['Continent'], as_index=False).mean().sort_values(by='Continent', ascending=False)"
   ]
  },
  {
   "cell_type": "code",
   "execution_count": null,
   "metadata": {},
   "outputs": [],
   "source": [
    "train_df[['Hemisphere', 'Heart Attack Risk']].groupby(['Hemisphere'], as_index=False).mean().sort_values(by='Hemisphere', ascending=False)"
   ]
  },
  {
   "cell_type": "code",
   "execution_count": null,
   "metadata": {},
   "outputs": [],
   "source": [
    "g = sns.FacetGrid(train_df, col='Heart Attack Risk')\n",
    "g.map(plt.hist, 'Age', bins=15)"
   ]
  },
  {
   "cell_type": "markdown",
   "metadata": {},
   "source": [
    "## **Correlating Categorical features**"
   ]
  },
  {
   "cell_type": "markdown",
   "metadata": {},
   "source": [
    "* Looks like there is a relationship between sex, continent (Especially for Asia & Female, North America & Female, Male & Europe) and their associated heart attack risk\n",
    "* There is a strange relationship between diet and continent. Turns out Unhealthy diet leads lower risks compared to average & healthy diets in South America & Africa\n",
    "\n",
    "\n",
    "* **For now, using diet, sex and continent**"
   ]
  },
  {
   "cell_type": "code",
   "execution_count": null,
   "metadata": {},
   "outputs": [],
   "source": [
    "grid = sns.FacetGrid(train_df, row='Sex', height=2.5, aspect=3.0)\n",
    "grid.map(sns.pointplot, 'Continent', 'Heart Attack Risk', 'Sex', palette='deep')\n",
    "grid.add_legend()"
   ]
  },
  {
   "cell_type": "code",
   "execution_count": null,
   "metadata": {},
   "outputs": [],
   "source": [
    "grid = sns.FacetGrid(train_df, row='Diet', height=2.5, aspect=3.0)\n",
    "grid.map(sns.pointplot, 'Continent', 'Heart Attack Risk', 'Diet', palette='deep')\n",
    "grid.add_legend()"
   ]
  },
  {
   "cell_type": "code",
   "execution_count": null,
   "metadata": {},
   "outputs": [],
   "source": [
    "grid = sns.FacetGrid(train_df, row='Sex', height=2.5, aspect=3.0)\n",
    "grid.map(sns.pointplot, 'Diet', 'Heart Attack Risk', 'Sex', palette='deep')\n",
    "grid.add_legend()"
   ]
  },
  {
   "cell_type": "markdown",
   "metadata": {},
   "source": [
    "## **Visualizing Continuous data**\n",
    "* No relationship between age and risk \n",
    "* Seems to be a relationship between Cholesterol range and risk = 1\n",
    "* Average diet but more exercise > less risk. Average diet but less exercise, more risk\n",
    "* Don't see how stress level is useful\n",
    "* Sedentary might be useful\n",
    "* There seems to be a relationship between higher salary and higher risk. This might be a correlation through diet. [**Take a look later**]\n",
    "* Seems to be a relationship between risk = 1, lower end of and the very high end of BMI\n",
    "* Triglyceride seems to vary for risk = 1 ever so slightly\n",
    "* No relation with physical activity days per week\n",
    "* Sleep hours per day seems to influence (negative correlation) risk = 1\n",
    "\n",
    "**For now taking Heart Rate, Cholesterol, exercise, sedentary, Income, BMI, Triglyceride, Sleep Hrs per day**"
   ]
  },
  {
   "cell_type": "code",
   "execution_count": null,
   "metadata": {},
   "outputs": [],
   "source": [
    "g = sns.FacetGrid(train_df, col='Heart Attack Risk')\n",
    "g.map(plt.hist, 'Age', bins=30)"
   ]
  },
  {
   "cell_type": "code",
   "execution_count": null,
   "metadata": {},
   "outputs": [],
   "source": [
    "g = sns.FacetGrid(train_df, col='Heart Attack Risk')\n",
    "g.map(plt.hist, 'Heart Rate', bins=12)"
   ]
  },
  {
   "cell_type": "code",
   "execution_count": null,
   "metadata": {},
   "outputs": [],
   "source": [
    "g = sns.FacetGrid(train_df, col='Heart Attack Risk')\n",
    "g.map(plt.hist, 'Cholesterol', bins=15)"
   ]
  },
  {
   "cell_type": "code",
   "execution_count": null,
   "metadata": {},
   "outputs": [],
   "source": [
    "g = sns.FacetGrid(train_df, col='Heart Attack Risk')\n",
    "g.map(plt.hist, 'Exercise Hours Per Week', bins=15)"
   ]
  },
  {
   "cell_type": "code",
   "execution_count": null,
   "metadata": {},
   "outputs": [],
   "source": [
    "grid = sns.FacetGrid(train_df, col='Heart Attack Risk', row='Diet', height=2.2, aspect=1.6)\n",
    "grid.map(plt.hist, 'Exercise Hours Per Week', alpha=.5, bins=40)\n",
    "grid.add_legend();"
   ]
  },
  {
   "cell_type": "code",
   "execution_count": null,
   "metadata": {},
   "outputs": [],
   "source": [
    "g = sns.FacetGrid(train_df, col='Heart Attack Risk')\n",
    "g.map(plt.hist, 'Stress Level', bins=8)"
   ]
  },
  {
   "cell_type": "code",
   "execution_count": null,
   "metadata": {},
   "outputs": [],
   "source": [
    "g = sns.FacetGrid(train_df, col='Heart Attack Risk')\n",
    "g.map(plt.hist, 'Sedentary Hours Per Day', bins=10)"
   ]
  },
  {
   "cell_type": "code",
   "execution_count": null,
   "metadata": {},
   "outputs": [],
   "source": [
    "g = sns.FacetGrid(train_df, col='Heart Attack Risk')\n",
    "g.map(plt.hist, 'Income', bins=10)"
   ]
  },
  {
   "cell_type": "code",
   "execution_count": null,
   "metadata": {},
   "outputs": [],
   "source": [
    "g = sns.FacetGrid(train_df, col='Heart Attack Risk')\n",
    "g.map(plt.hist, 'BMI', bins=15)"
   ]
  },
  {
   "cell_type": "code",
   "execution_count": null,
   "metadata": {},
   "outputs": [],
   "source": [
    "g = sns.FacetGrid(train_df, col='Heart Attack Risk')\n",
    "g.map(plt.hist, 'Triglycerides', bins=5)"
   ]
  },
  {
   "cell_type": "code",
   "execution_count": null,
   "metadata": {},
   "outputs": [],
   "source": [
    "g = sns.FacetGrid(train_df, col='Heart Attack Risk')\n",
    "g.map(plt.hist, 'Physical Activity Days Per Week', bins=7)"
   ]
  },
  {
   "cell_type": "code",
   "execution_count": null,
   "metadata": {},
   "outputs": [],
   "source": [
    "g = sns.FacetGrid(train_df, col='Heart Attack Risk')\n",
    "g.map(plt.hist, 'Sleep Hours Per Day', bins=7)"
   ]
  },
  {
   "cell_type": "markdown",
   "metadata": {},
   "source": [
    "## Correlating Binary Data\n",
    "* Diabetes seems useful\n",
    "* Family history seems irrelevant\n",
    "* Smoking, Obesity, Alcohol consumption is inversely related (!!). **Might drop later or make one feature out of these**\n",
    "* Previous heart problem seems useful\n",
    "* Medication doesn't seem useful\n",
    "\n",
    "**Using Diabetes, Smoking, Obesity, Alcohol, Previous Heart Problems**\n"
   ]
  },
  {
   "cell_type": "code",
   "execution_count": null,
   "metadata": {},
   "outputs": [],
   "source": [
    "train_df[[\"Diabetes\", \"Heart Attack Risk\"]].groupby(['Diabetes'], as_index=False).mean().sort_values(by='Diabetes', ascending=True)"
   ]
  },
  {
   "cell_type": "code",
   "execution_count": null,
   "metadata": {},
   "outputs": [],
   "source": [
    "train_df[[\"Family History\", \"Heart Attack Risk\"]].groupby(['Family History'], as_index=False).mean().sort_values(by='Family History', ascending=True)"
   ]
  },
  {
   "cell_type": "code",
   "execution_count": null,
   "metadata": {},
   "outputs": [],
   "source": [
    "train_df[[\"Smoking\", \"Heart Attack Risk\"]].groupby(['Smoking'], as_index=False).mean().sort_values(by='Smoking', ascending=True)"
   ]
  },
  {
   "cell_type": "code",
   "execution_count": null,
   "metadata": {},
   "outputs": [],
   "source": [
    "train_df[[\"Obesity\", \"Heart Attack Risk\"]].groupby(['Obesity'], as_index=False).mean().sort_values(by='Obesity', ascending=True)"
   ]
  },
  {
   "cell_type": "code",
   "execution_count": null,
   "metadata": {},
   "outputs": [],
   "source": [
    "train_df[[\"Alcohol Consumption\", \"Heart Attack Risk\"]].groupby(['Alcohol Consumption'], as_index=False).mean().sort_values(by='Alcohol Consumption', ascending=True)"
   ]
  },
  {
   "cell_type": "code",
   "execution_count": null,
   "metadata": {},
   "outputs": [],
   "source": [
    "train_df[[\"Previous Heart Problems\", \"Heart Attack Risk\"]].groupby(['Previous Heart Problems'], as_index=False).mean().sort_values(by='Previous Heart Problems', ascending=True)"
   ]
  },
  {
   "cell_type": "code",
   "execution_count": null,
   "metadata": {},
   "outputs": [],
   "source": [
    "train_df[[\"Medication Use\", \"Heart Attack Risk\"]].groupby(['Medication Use'], as_index=False).mean().sort_values(by='Medication Use', ascending=True)"
   ]
  },
  {
   "cell_type": "markdown",
   "metadata": {},
   "source": [
    "## Data preprocessing\n",
    "\n",
    "* Splitting up heart rate and take addition\n",
    "* Clearly, the sum BP is correlated to Heart risk. The graph is left skewed when risk = 0 and right skewed when it's right skewed, so **using Sum BP**\n",
    "* Converting diet, sex and continent - from categorical to numerical representation"
   ]
  },
  {
   "cell_type": "code",
   "execution_count": 3,
   "metadata": {},
   "outputs": [],
   "source": [
    "#dropping all unrequired categorical columns\n",
    "train_df = train_df.drop(['Patient ID', 'Country', 'Hemisphere'], axis=1)\n",
    "test_df = test_df.drop(['Patient ID', 'Country', 'Hemisphere'], axis=1)"
   ]
  },
  {
   "cell_type": "code",
   "execution_count": 4,
   "metadata": {},
   "outputs": [
    {
     "data": {
      "text/html": [
       "<div>\n",
       "<style scoped>\n",
       "    .dataframe tbody tr th:only-of-type {\n",
       "        vertical-align: middle;\n",
       "    }\n",
       "\n",
       "    .dataframe tbody tr th {\n",
       "        vertical-align: top;\n",
       "    }\n",
       "\n",
       "    .dataframe thead th {\n",
       "        text-align: right;\n",
       "    }\n",
       "</style>\n",
       "<table border=\"1\" class=\"dataframe\">\n",
       "  <thead>\n",
       "    <tr style=\"text-align: right;\">\n",
       "      <th></th>\n",
       "      <th>Age</th>\n",
       "      <th>Sex</th>\n",
       "      <th>Cholesterol</th>\n",
       "      <th>Blood Pressure</th>\n",
       "      <th>Heart Rate</th>\n",
       "      <th>Diabetes</th>\n",
       "      <th>Family History</th>\n",
       "      <th>Smoking</th>\n",
       "      <th>Obesity</th>\n",
       "      <th>Alcohol Consumption</th>\n",
       "      <th>...</th>\n",
       "      <th>Stress Level</th>\n",
       "      <th>Sedentary Hours Per Day</th>\n",
       "      <th>Income</th>\n",
       "      <th>BMI</th>\n",
       "      <th>Triglycerides</th>\n",
       "      <th>Physical Activity Days Per Week</th>\n",
       "      <th>Sleep Hours Per Day</th>\n",
       "      <th>Continent</th>\n",
       "      <th>Heart Attack Risk</th>\n",
       "      <th>Sum BP</th>\n",
       "    </tr>\n",
       "  </thead>\n",
       "  <tbody>\n",
       "    <tr>\n",
       "      <th>0</th>\n",
       "      <td>33</td>\n",
       "      <td>Male</td>\n",
       "      <td>200</td>\n",
       "      <td>129/90</td>\n",
       "      <td>48</td>\n",
       "      <td>0</td>\n",
       "      <td>1</td>\n",
       "      <td>1</td>\n",
       "      <td>1</td>\n",
       "      <td>1</td>\n",
       "      <td>...</td>\n",
       "      <td>2</td>\n",
       "      <td>0.138443</td>\n",
       "      <td>184066</td>\n",
       "      <td>30.449815</td>\n",
       "      <td>63</td>\n",
       "      <td>6</td>\n",
       "      <td>7</td>\n",
       "      <td>South America</td>\n",
       "      <td>1</td>\n",
       "      <td>219</td>\n",
       "    </tr>\n",
       "    <tr>\n",
       "      <th>1</th>\n",
       "      <td>56</td>\n",
       "      <td>Female</td>\n",
       "      <td>262</td>\n",
       "      <td>159/105</td>\n",
       "      <td>46</td>\n",
       "      <td>1</td>\n",
       "      <td>0</td>\n",
       "      <td>1</td>\n",
       "      <td>0</td>\n",
       "      <td>0</td>\n",
       "      <td>...</td>\n",
       "      <td>8</td>\n",
       "      <td>0.369552</td>\n",
       "      <td>211755</td>\n",
       "      <td>34.973685</td>\n",
       "      <td>333</td>\n",
       "      <td>7</td>\n",
       "      <td>8</td>\n",
       "      <td>Africa</td>\n",
       "      <td>1</td>\n",
       "      <td>264</td>\n",
       "    </tr>\n",
       "    <tr>\n",
       "      <th>2</th>\n",
       "      <td>19</td>\n",
       "      <td>Female</td>\n",
       "      <td>140</td>\n",
       "      <td>161/109</td>\n",
       "      <td>54</td>\n",
       "      <td>0</td>\n",
       "      <td>1</td>\n",
       "      <td>0</td>\n",
       "      <td>0</td>\n",
       "      <td>1</td>\n",
       "      <td>...</td>\n",
       "      <td>3</td>\n",
       "      <td>8.646334</td>\n",
       "      <td>252203</td>\n",
       "      <td>30.554246</td>\n",
       "      <td>537</td>\n",
       "      <td>2</td>\n",
       "      <td>10</td>\n",
       "      <td>Asia</td>\n",
       "      <td>0</td>\n",
       "      <td>270</td>\n",
       "    </tr>\n",
       "    <tr>\n",
       "      <th>3</th>\n",
       "      <td>50</td>\n",
       "      <td>Female</td>\n",
       "      <td>163</td>\n",
       "      <td>120/62</td>\n",
       "      <td>53</td>\n",
       "      <td>0</td>\n",
       "      <td>1</td>\n",
       "      <td>1</td>\n",
       "      <td>1</td>\n",
       "      <td>1</td>\n",
       "      <td>...</td>\n",
       "      <td>7</td>\n",
       "      <td>1.107884</td>\n",
       "      <td>121954</td>\n",
       "      <td>35.390265</td>\n",
       "      <td>591</td>\n",
       "      <td>0</td>\n",
       "      <td>9</td>\n",
       "      <td>Europe</td>\n",
       "      <td>1</td>\n",
       "      <td>182</td>\n",
       "    </tr>\n",
       "    <tr>\n",
       "      <th>4</th>\n",
       "      <td>89</td>\n",
       "      <td>Female</td>\n",
       "      <td>144</td>\n",
       "      <td>153/110</td>\n",
       "      <td>92</td>\n",
       "      <td>1</td>\n",
       "      <td>0</td>\n",
       "      <td>1</td>\n",
       "      <td>0</td>\n",
       "      <td>1</td>\n",
       "      <td>...</td>\n",
       "      <td>1</td>\n",
       "      <td>1.337570</td>\n",
       "      <td>180121</td>\n",
       "      <td>39.575483</td>\n",
       "      <td>145</td>\n",
       "      <td>2</td>\n",
       "      <td>5</td>\n",
       "      <td>Europe</td>\n",
       "      <td>1</td>\n",
       "      <td>263</td>\n",
       "    </tr>\n",
       "  </tbody>\n",
       "</table>\n",
       "<p>5 rows × 24 columns</p>\n",
       "</div>"
      ],
      "text/plain": [
       "   Age     Sex  Cholesterol Blood Pressure  Heart Rate  Diabetes  \\\n",
       "0   33    Male          200         129/90          48         0   \n",
       "1   56  Female          262        159/105          46         1   \n",
       "2   19  Female          140        161/109          54         0   \n",
       "3   50  Female          163         120/62          53         0   \n",
       "4   89  Female          144        153/110          92         1   \n",
       "\n",
       "   Family History  Smoking  Obesity  Alcohol Consumption  ...  Stress Level  \\\n",
       "0               1        1        1                    1  ...             2   \n",
       "1               0        1        0                    0  ...             8   \n",
       "2               1        0        0                    1  ...             3   \n",
       "3               1        1        1                    1  ...             7   \n",
       "4               0        1        0                    1  ...             1   \n",
       "\n",
       "  Sedentary Hours Per Day  Income        BMI  Triglycerides  \\\n",
       "0                0.138443  184066  30.449815             63   \n",
       "1                0.369552  211755  34.973685            333   \n",
       "2                8.646334  252203  30.554246            537   \n",
       "3                1.107884  121954  35.390265            591   \n",
       "4                1.337570  180121  39.575483            145   \n",
       "\n",
       "   Physical Activity Days Per Week  Sleep Hours Per Day      Continent  \\\n",
       "0                                6                    7  South America   \n",
       "1                                7                    8         Africa   \n",
       "2                                2                   10           Asia   \n",
       "3                                0                    9         Europe   \n",
       "4                                2                    5         Europe   \n",
       "\n",
       "   Heart Attack Risk  Sum BP  \n",
       "0                  1     219  \n",
       "1                  1     264  \n",
       "2                  0     270  \n",
       "3                  1     182  \n",
       "4                  1     263  \n",
       "\n",
       "[5 rows x 24 columns]"
      ]
     },
     "execution_count": 4,
     "metadata": {},
     "output_type": "execute_result"
    }
   ],
   "source": [
    "train_df['Sum BP'] = train_df['Blood Pressure'].apply(lambda x: sum(int(num) for num in x.split('/')))\n",
    "train_df.head()"
   ]
  },
  {
   "cell_type": "code",
   "execution_count": 5,
   "metadata": {},
   "outputs": [],
   "source": [
    "#calculate the Sum BP for test set as well and drop Blood Pressure from both\n",
    "test_df['Sum BP'] = train_df['Blood Pressure'].apply(lambda x: sum(int(num) for num in x.split('/')))\n",
    "train_df = train_df.drop(['Blood Pressure'], axis=1)\n",
    "test_df = test_df.drop(['Blood Pressure'], axis=1)"
   ]
  },
  {
   "cell_type": "code",
   "execution_count": 6,
   "metadata": {},
   "outputs": [
    {
     "data": {
      "text/plain": [
       "<seaborn.axisgrid.FacetGrid at 0x22040119b90>"
      ]
     },
     "execution_count": 6,
     "metadata": {},
     "output_type": "execute_result"
    },
    {
     "data": {
      "image/png": "[encoded data removed]",
      "text/plain": [
       "<Figure size 600x300 with 2 Axes>"
      ]
     },
     "metadata": {},
     "output_type": "display_data"
    }
   ],
   "source": [
    "g = sns.FacetGrid(train_df, col='Heart Attack Risk')\n",
    "g.map(plt.hist, 'Sum BP', bins=15)"
   ]
  },
  {
   "cell_type": "code",
   "execution_count": 7,
   "metadata": {},
   "outputs": [],
   "source": [
    "def categoricalToNumeric(mapping, columnName):\n",
    "        train_df[columnName] = train_df[columnName].map(mapping)\n",
    "        test_df[columnName] = test_df[columnName].map(mapping)"
   ]
  },
  {
   "cell_type": "code",
   "execution_count": 8,
   "metadata": {},
   "outputs": [
    {
     "data": {
      "text/html": [
       "<div>\n",
       "<style scoped>\n",
       "    .dataframe tbody tr th:only-of-type {\n",
       "        vertical-align: middle;\n",
       "    }\n",
       "\n",
       "    .dataframe tbody tr th {\n",
       "        vertical-align: top;\n",
       "    }\n",
       "\n",
       "    .dataframe thead th {\n",
       "        text-align: right;\n",
       "    }\n",
       "</style>\n",
       "<table border=\"1\" class=\"dataframe\">\n",
       "  <thead>\n",
       "    <tr style=\"text-align: right;\">\n",
       "      <th></th>\n",
       "      <th>Age</th>\n",
       "      <th>Sex</th>\n",
       "      <th>Cholesterol</th>\n",
       "      <th>Heart Rate</th>\n",
       "      <th>Diabetes</th>\n",
       "      <th>Family History</th>\n",
       "      <th>Smoking</th>\n",
       "      <th>Obesity</th>\n",
       "      <th>Alcohol Consumption</th>\n",
       "      <th>Exercise Hours Per Week</th>\n",
       "      <th>...</th>\n",
       "      <th>Stress Level</th>\n",
       "      <th>Sedentary Hours Per Day</th>\n",
       "      <th>Income</th>\n",
       "      <th>BMI</th>\n",
       "      <th>Triglycerides</th>\n",
       "      <th>Physical Activity Days Per Week</th>\n",
       "      <th>Sleep Hours Per Day</th>\n",
       "      <th>Continent</th>\n",
       "      <th>Heart Attack Risk</th>\n",
       "      <th>Sum BP</th>\n",
       "    </tr>\n",
       "  </thead>\n",
       "  <tbody>\n",
       "    <tr>\n",
       "      <th>0</th>\n",
       "      <td>33</td>\n",
       "      <td>0</td>\n",
       "      <td>200</td>\n",
       "      <td>48</td>\n",
       "      <td>0</td>\n",
       "      <td>1</td>\n",
       "      <td>1</td>\n",
       "      <td>1</td>\n",
       "      <td>1</td>\n",
       "      <td>7.807690</td>\n",
       "      <td>...</td>\n",
       "      <td>2</td>\n",
       "      <td>0.138443</td>\n",
       "      <td>184066</td>\n",
       "      <td>30.449815</td>\n",
       "      <td>63</td>\n",
       "      <td>6</td>\n",
       "      <td>7</td>\n",
       "      <td>0</td>\n",
       "      <td>1</td>\n",
       "      <td>219</td>\n",
       "    </tr>\n",
       "    <tr>\n",
       "      <th>1</th>\n",
       "      <td>56</td>\n",
       "      <td>1</td>\n",
       "      <td>262</td>\n",
       "      <td>46</td>\n",
       "      <td>1</td>\n",
       "      <td>0</td>\n",
       "      <td>1</td>\n",
       "      <td>0</td>\n",
       "      <td>0</td>\n",
       "      <td>17.297628</td>\n",
       "      <td>...</td>\n",
       "      <td>8</td>\n",
       "      <td>0.369552</td>\n",
       "      <td>211755</td>\n",
       "      <td>34.973685</td>\n",
       "      <td>333</td>\n",
       "      <td>7</td>\n",
       "      <td>8</td>\n",
       "      <td>1</td>\n",
       "      <td>1</td>\n",
       "      <td>264</td>\n",
       "    </tr>\n",
       "    <tr>\n",
       "      <th>2</th>\n",
       "      <td>19</td>\n",
       "      <td>1</td>\n",
       "      <td>140</td>\n",
       "      <td>54</td>\n",
       "      <td>0</td>\n",
       "      <td>1</td>\n",
       "      <td>0</td>\n",
       "      <td>0</td>\n",
       "      <td>1</td>\n",
       "      <td>8.695288</td>\n",
       "      <td>...</td>\n",
       "      <td>3</td>\n",
       "      <td>8.646334</td>\n",
       "      <td>252203</td>\n",
       "      <td>30.554246</td>\n",
       "      <td>537</td>\n",
       "      <td>2</td>\n",
       "      <td>10</td>\n",
       "      <td>2</td>\n",
       "      <td>0</td>\n",
       "      <td>270</td>\n",
       "    </tr>\n",
       "    <tr>\n",
       "      <th>3</th>\n",
       "      <td>50</td>\n",
       "      <td>1</td>\n",
       "      <td>163</td>\n",
       "      <td>53</td>\n",
       "      <td>0</td>\n",
       "      <td>1</td>\n",
       "      <td>1</td>\n",
       "      <td>1</td>\n",
       "      <td>1</td>\n",
       "      <td>10.161587</td>\n",
       "      <td>...</td>\n",
       "      <td>7</td>\n",
       "      <td>1.107884</td>\n",
       "      <td>121954</td>\n",
       "      <td>35.390265</td>\n",
       "      <td>591</td>\n",
       "      <td>0</td>\n",
       "      <td>9</td>\n",
       "      <td>3</td>\n",
       "      <td>1</td>\n",
       "      <td>182</td>\n",
       "    </tr>\n",
       "    <tr>\n",
       "      <th>4</th>\n",
       "      <td>89</td>\n",
       "      <td>1</td>\n",
       "      <td>144</td>\n",
       "      <td>92</td>\n",
       "      <td>1</td>\n",
       "      <td>0</td>\n",
       "      <td>1</td>\n",
       "      <td>0</td>\n",
       "      <td>1</td>\n",
       "      <td>16.436787</td>\n",
       "      <td>...</td>\n",
       "      <td>1</td>\n",
       "      <td>1.337570</td>\n",
       "      <td>180121</td>\n",
       "      <td>39.575483</td>\n",
       "      <td>145</td>\n",
       "      <td>2</td>\n",
       "      <td>5</td>\n",
       "      <td>3</td>\n",
       "      <td>1</td>\n",
       "      <td>263</td>\n",
       "    </tr>\n",
       "  </tbody>\n",
       "</table>\n",
       "<p>5 rows × 23 columns</p>\n",
       "</div>"
      ],
      "text/plain": [
       "   Age  Sex  Cholesterol  Heart Rate  Diabetes  Family History  Smoking  \\\n",
       "0   33    0          200          48         0               1        1   \n",
       "1   56    1          262          46         1               0        1   \n",
       "2   19    1          140          54         0               1        0   \n",
       "3   50    1          163          53         0               1        1   \n",
       "4   89    1          144          92         1               0        1   \n",
       "\n",
       "   Obesity  Alcohol Consumption  Exercise Hours Per Week  ...  Stress Level  \\\n",
       "0        1                    1                 7.807690  ...             2   \n",
       "1        0                    0                17.297628  ...             8   \n",
       "2        0                    1                 8.695288  ...             3   \n",
       "3        1                    1                10.161587  ...             7   \n",
       "4        0                    1                16.436787  ...             1   \n",
       "\n",
       "   Sedentary Hours Per Day  Income        BMI  Triglycerides  \\\n",
       "0                 0.138443  184066  30.449815             63   \n",
       "1                 0.369552  211755  34.973685            333   \n",
       "2                 8.646334  252203  30.554246            537   \n",
       "3                 1.107884  121954  35.390265            591   \n",
       "4                 1.337570  180121  39.575483            145   \n",
       "\n",
       "   Physical Activity Days Per Week  Sleep Hours Per Day  Continent  \\\n",
       "0                                6                    7          0   \n",
       "1                                7                    8          1   \n",
       "2                                2                   10          2   \n",
       "3                                0                    9          3   \n",
       "4                                2                    5          3   \n",
       "\n",
       "   Heart Attack Risk  Sum BP  \n",
       "0                  1     219  \n",
       "1                  1     264  \n",
       "2                  0     270  \n",
       "3                  1     182  \n",
       "4                  1     263  \n",
       "\n",
       "[5 rows x 23 columns]"
      ]
     },
     "execution_count": 8,
     "metadata": {},
     "output_type": "execute_result"
    }
   ],
   "source": [
    "#converting categorical diet, sex and continent to numeric\n",
    "categoricalToNumeric({'Male':0, 'Female':1}, 'Sex')\n",
    "categoricalToNumeric({'Unhealthy':0, 'Average':1, 'Healthy':2}, 'Diet')\n",
    "\n",
    "continents = train_df['Continent'].unique()\n",
    "continentsMapping = {continent:idx for idx,continent in enumerate(continents)}\n",
    "categoricalToNumeric(continentsMapping, 'Continent')\n",
    "train_df.head()"
   ]
  },
  {
   "cell_type": "code",
   "execution_count": 9,
   "metadata": {},
   "outputs": [
    {
     "data": {
      "text/html": [
       "<div>\n",
       "<style scoped>\n",
       "    .dataframe tbody tr th:only-of-type {\n",
       "        vertical-align: middle;\n",
       "    }\n",
       "\n",
       "    .dataframe tbody tr th {\n",
       "        vertical-align: top;\n",
       "    }\n",
       "\n",
       "    .dataframe thead th {\n",
       "        text-align: right;\n",
       "    }\n",
       "</style>\n",
       "<table border=\"1\" class=\"dataframe\">\n",
       "  <thead>\n",
       "    <tr style=\"text-align: right;\">\n",
       "      <th></th>\n",
       "      <th>Sex</th>\n",
       "      <th>Cholesterol</th>\n",
       "      <th>Heart Rate</th>\n",
       "      <th>Diabetes</th>\n",
       "      <th>Family History</th>\n",
       "      <th>Smoking</th>\n",
       "      <th>Obesity</th>\n",
       "      <th>Alcohol Consumption</th>\n",
       "      <th>Exercise Hours Per Week</th>\n",
       "      <th>Diet</th>\n",
       "      <th>Previous Heart Problems</th>\n",
       "      <th>Medication Use</th>\n",
       "      <th>Sedentary Hours Per Day</th>\n",
       "      <th>Income</th>\n",
       "      <th>BMI</th>\n",
       "      <th>Triglycerides</th>\n",
       "      <th>Sleep Hours Per Day</th>\n",
       "      <th>Continent</th>\n",
       "      <th>Heart Attack Risk</th>\n",
       "      <th>Sum BP</th>\n",
       "    </tr>\n",
       "  </thead>\n",
       "  <tbody>\n",
       "    <tr>\n",
       "      <th>0</th>\n",
       "      <td>0</td>\n",
       "      <td>200</td>\n",
       "      <td>48</td>\n",
       "      <td>0</td>\n",
       "      <td>1</td>\n",
       "      <td>1</td>\n",
       "      <td>1</td>\n",
       "      <td>1</td>\n",
       "      <td>7.807690</td>\n",
       "      <td>0</td>\n",
       "      <td>0</td>\n",
       "      <td>1</td>\n",
       "      <td>0.138443</td>\n",
       "      <td>184066</td>\n",
       "      <td>30.449815</td>\n",
       "      <td>63</td>\n",
       "      <td>7</td>\n",
       "      <td>0</td>\n",
       "      <td>1</td>\n",
       "      <td>219</td>\n",
       "    </tr>\n",
       "    <tr>\n",
       "      <th>1</th>\n",
       "      <td>1</td>\n",
       "      <td>262</td>\n",
       "      <td>46</td>\n",
       "      <td>1</td>\n",
       "      <td>0</td>\n",
       "      <td>1</td>\n",
       "      <td>0</td>\n",
       "      <td>0</td>\n",
       "      <td>17.297628</td>\n",
       "      <td>1</td>\n",
       "      <td>1</td>\n",
       "      <td>0</td>\n",
       "      <td>0.369552</td>\n",
       "      <td>211755</td>\n",
       "      <td>34.973685</td>\n",
       "      <td>333</td>\n",
       "      <td>8</td>\n",
       "      <td>1</td>\n",
       "      <td>1</td>\n",
       "      <td>264</td>\n",
       "    </tr>\n",
       "    <tr>\n",
       "      <th>2</th>\n",
       "      <td>1</td>\n",
       "      <td>140</td>\n",
       "      <td>54</td>\n",
       "      <td>0</td>\n",
       "      <td>1</td>\n",
       "      <td>0</td>\n",
       "      <td>0</td>\n",
       "      <td>1</td>\n",
       "      <td>8.695288</td>\n",
       "      <td>1</td>\n",
       "      <td>1</td>\n",
       "      <td>1</td>\n",
       "      <td>8.646334</td>\n",
       "      <td>252203</td>\n",
       "      <td>30.554246</td>\n",
       "      <td>537</td>\n",
       "      <td>10</td>\n",
       "      <td>2</td>\n",
       "      <td>0</td>\n",
       "      <td>270</td>\n",
       "    </tr>\n",
       "    <tr>\n",
       "      <th>3</th>\n",
       "      <td>1</td>\n",
       "      <td>163</td>\n",
       "      <td>53</td>\n",
       "      <td>0</td>\n",
       "      <td>1</td>\n",
       "      <td>1</td>\n",
       "      <td>1</td>\n",
       "      <td>1</td>\n",
       "      <td>10.161587</td>\n",
       "      <td>2</td>\n",
       "      <td>0</td>\n",
       "      <td>1</td>\n",
       "      <td>1.107884</td>\n",
       "      <td>121954</td>\n",
       "      <td>35.390265</td>\n",
       "      <td>591</td>\n",
       "      <td>9</td>\n",
       "      <td>3</td>\n",
       "      <td>1</td>\n",
       "      <td>182</td>\n",
       "    </tr>\n",
       "    <tr>\n",
       "      <th>4</th>\n",
       "      <td>1</td>\n",
       "      <td>144</td>\n",
       "      <td>92</td>\n",
       "      <td>1</td>\n",
       "      <td>0</td>\n",
       "      <td>1</td>\n",
       "      <td>0</td>\n",
       "      <td>1</td>\n",
       "      <td>16.436787</td>\n",
       "      <td>2</td>\n",
       "      <td>1</td>\n",
       "      <td>0</td>\n",
       "      <td>1.337570</td>\n",
       "      <td>180121</td>\n",
       "      <td>39.575483</td>\n",
       "      <td>145</td>\n",
       "      <td>5</td>\n",
       "      <td>3</td>\n",
       "      <td>1</td>\n",
       "      <td>263</td>\n",
       "    </tr>\n",
       "  </tbody>\n",
       "</table>\n",
       "</div>"
      ],
      "text/plain": [
       "   Sex  Cholesterol  Heart Rate  Diabetes  Family History  Smoking  Obesity  \\\n",
       "0    0          200          48         0               1        1        1   \n",
       "1    1          262          46         1               0        1        0   \n",
       "2    1          140          54         0               1        0        0   \n",
       "3    1          163          53         0               1        1        1   \n",
       "4    1          144          92         1               0        1        0   \n",
       "\n",
       "   Alcohol Consumption  Exercise Hours Per Week  Diet  \\\n",
       "0                    1                 7.807690     0   \n",
       "1                    0                17.297628     1   \n",
       "2                    1                 8.695288     1   \n",
       "3                    1                10.161587     2   \n",
       "4                    1                16.436787     2   \n",
       "\n",
       "   Previous Heart Problems  Medication Use  Sedentary Hours Per Day  Income  \\\n",
       "0                        0               1                 0.138443  184066   \n",
       "1                        1               0                 0.369552  211755   \n",
       "2                        1               1                 8.646334  252203   \n",
       "3                        0               1                 1.107884  121954   \n",
       "4                        1               0                 1.337570  180121   \n",
       "\n",
       "         BMI  Triglycerides  Sleep Hours Per Day  Continent  \\\n",
       "0  30.449815             63                    7          0   \n",
       "1  34.973685            333                    8          1   \n",
       "2  30.554246            537                   10          2   \n",
       "3  35.390265            591                    9          3   \n",
       "4  39.575483            145                    5          3   \n",
       "\n",
       "   Heart Attack Risk  Sum BP  \n",
       "0                  1     219  \n",
       "1                  1     264  \n",
       "2                  0     270  \n",
       "3                  1     182  \n",
       "4                  1     263  "
      ]
     },
     "execution_count": 9,
     "metadata": {},
     "output_type": "execute_result"
    }
   ],
   "source": [
    "#dropping unrequired continuous columns\n",
    "train_df = train_df.drop(['Age','Stress Level', 'Physical Activity Days Per Week'], axis=1)\n",
    "test_df = test_df.drop(['Age', 'Stress Level', 'Physical Activity Days Per Week'], axis=1)\n",
    "train_df.head()"
   ]
  },
  {
   "cell_type": "code",
   "execution_count": 10,
   "metadata": {},
   "outputs": [],
   "source": [
    "def continuousToCategorical(df,colName, minVal, maxVal, bins):\n",
    "    interval = (maxVal-minVal)/(bins-1)\n",
    "    # print(\"minVal, maxVal, bins, interval: \",minVal,\" \",maxVal,\" \",bins,\" \",interval)\n",
    "\n",
    "    df.loc[ train_df[colName] <= minVal, colName] = 0\n",
    "    currentMaxVal = minVal + interval\n",
    "    label=1\n",
    "\n",
    "    while currentMaxVal < maxVal:\n",
    "        # print(\"minVal, currentMaxVal, label\", minVal, \" \", currentMaxVal, \" \", label)\n",
    "        df.loc[(df[colName] > minVal) & (df[colName] <= currentMaxVal), colName] = label\n",
    "        minVal = currentMaxVal\n",
    "        currentMaxVal += interval\n",
    "        label += 1\n",
    "    # print(\"currentMaxVal, label\", \" \", currentMaxVal, \" \", label)\n",
    "    df.loc[ df[colName] > (currentMaxVal-interval), colName] = label\n",
    "    return df"
   ]
  },
  {
   "cell_type": "code",
   "execution_count": 11,
   "metadata": {},
   "outputs": [],
   "source": [
    "# categorizing Cholesterol, exercise, sedentary, Income, BMI, Triglyceride, Sleep Hrs per day, Sum BP, heart rate\n",
    "train_df = continuousToCategorical(train_df, 'Heart Rate', train_df['Heart Rate'].min(), train_df['Heart Rate'].max(), 12)\n",
    "train_df = continuousToCategorical(train_df, 'Exercise Hours Per Week', train_df['Exercise Hours Per Week'].min(), train_df['Exercise Hours Per Week'].max(), 15)\n",
    "train_df = continuousToCategorical(train_df, 'Sedentary Hours Per Day', train_df['Sedentary Hours Per Day'].min(), train_df['Sedentary Hours Per Day'].max(), 10)\n",
    "train_df = continuousToCategorical(train_df, 'Income', train_df['Income'].min(), train_df['Income'].max(), 10)\n",
    "train_df = continuousToCategorical(train_df, 'BMI', train_df['BMI'].min(), train_df['BMI'].max(), 15)\n",
    "train_df = continuousToCategorical(train_df, 'Triglycerides', train_df['Triglycerides'].min(), train_df['Triglycerides'].max(), 5)\n",
    "train_df = continuousToCategorical(train_df, 'Sleep Hours Per Day', train_df['Sleep Hours Per Day'].min(), train_df['Sleep Hours Per Day'].max(), 7)\n",
    "train_df = continuousToCategorical(train_df, 'Sum BP', train_df['Sum BP'].min(), train_df['Sum BP'].max(), 15)\n",
    "train_df = continuousToCategorical(train_df, 'Cholesterol', train_df['Cholesterol'].min(), train_df['Cholesterol'].max(), 15)\n",
    "\n",
    "test_df = continuousToCategorical(test_df, 'Heart Rate', train_df['Heart Rate'].min(), train_df['Heart Rate'].max(), 12)\n",
    "test_df = continuousToCategorical(test_df, 'Exercise Hours Per Week', train_df['Exercise Hours Per Week'].min(), train_df['Exercise Hours Per Week'].max(), 15)\n",
    "test_df = continuousToCategorical(test_df, 'Sedentary Hours Per Day', train_df['Sedentary Hours Per Day'].min(), train_df['Sedentary Hours Per Day'].max(), 10)\n",
    "test_df = continuousToCategorical(test_df, 'Income', train_df['Income'].min(), train_df['Income'].max(), 10)\n",
    "test_df = continuousToCategorical(test_df, 'BMI', train_df['BMI'].min(), train_df['BMI'].max(), 15)\n",
    "test_df = continuousToCategorical(test_df, 'Triglycerides', train_df['Triglycerides'].min(), train_df['Triglycerides'].max(), 5)\n",
    "test_df = continuousToCategorical(test_df, 'Sleep Hours Per Day', train_df['Sleep Hours Per Day'].min(), train_df['Sleep Hours Per Day'].max(), 7)\n",
    "test_df = continuousToCategorical(test_df, 'Sum BP', train_df['Sum BP'].min(), train_df['Sum BP'].max(), 15)\n",
    "test_df = continuousToCategorical(test_df, 'Cholesterol', train_df['Cholesterol'].min(), train_df['Cholesterol'].max(), 15)"
   ]
  },
  {
   "cell_type": "code",
   "execution_count": null,
   "metadata": {},
   "outputs": [],
   "source": [
    "train_df.head(20)"
   ]
  },
  {
   "cell_type": "code",
   "execution_count": 13,
   "metadata": {},
   "outputs": [
    {
     "data": {
      "text/html": [
       "<div>\n",
       "<style scoped>\n",
       "    .dataframe tbody tr th:only-of-type {\n",
       "        vertical-align: middle;\n",
       "    }\n",
       "\n",
       "    .dataframe tbody tr th {\n",
       "        vertical-align: top;\n",
       "    }\n",
       "\n",
       "    .dataframe thead th {\n",
       "        text-align: right;\n",
       "    }\n",
       "</style>\n",
       "<table border=\"1\" class=\"dataframe\">\n",
       "  <thead>\n",
       "    <tr style=\"text-align: right;\">\n",
       "      <th></th>\n",
       "      <th>Sex</th>\n",
       "      <th>Cholesterol</th>\n",
       "      <th>Heart Rate</th>\n",
       "      <th>Diabetes</th>\n",
       "      <th>Smoking</th>\n",
       "      <th>Obesity</th>\n",
       "      <th>Alcohol Consumption</th>\n",
       "      <th>Exercise Hours Per Week</th>\n",
       "      <th>Diet</th>\n",
       "      <th>Previous Heart Problems</th>\n",
       "      <th>Sedentary Hours Per Day</th>\n",
       "      <th>Income</th>\n",
       "      <th>BMI</th>\n",
       "      <th>Triglycerides</th>\n",
       "      <th>Sleep Hours Per Day</th>\n",
       "      <th>Continent</th>\n",
       "      <th>Heart Attack Risk</th>\n",
       "      <th>Sum BP</th>\n",
       "    </tr>\n",
       "  </thead>\n",
       "  <tbody>\n",
       "    <tr>\n",
       "      <th>0</th>\n",
       "      <td>0</td>\n",
       "      <td>4</td>\n",
       "      <td>2</td>\n",
       "      <td>0</td>\n",
       "      <td>1</td>\n",
       "      <td>1</td>\n",
       "      <td>1</td>\n",
       "      <td>6.0</td>\n",
       "      <td>0</td>\n",
       "      <td>0</td>\n",
       "      <td>1.0</td>\n",
       "      <td>6</td>\n",
       "      <td>8.0</td>\n",
       "      <td>1</td>\n",
       "      <td>3</td>\n",
       "      <td>0</td>\n",
       "      <td>1</td>\n",
       "      <td>7</td>\n",
       "    </tr>\n",
       "    <tr>\n",
       "      <th>1</th>\n",
       "      <td>1</td>\n",
       "      <td>8</td>\n",
       "      <td>1</td>\n",
       "      <td>1</td>\n",
       "      <td>1</td>\n",
       "      <td>0</td>\n",
       "      <td>0</td>\n",
       "      <td>13.0</td>\n",
       "      <td>1</td>\n",
       "      <td>1</td>\n",
       "      <td>1.0</td>\n",
       "      <td>7</td>\n",
       "      <td>11.0</td>\n",
       "      <td>2</td>\n",
       "      <td>4</td>\n",
       "      <td>1</td>\n",
       "      <td>1</td>\n",
       "      <td>12</td>\n",
       "    </tr>\n",
       "    <tr>\n",
       "      <th>2</th>\n",
       "      <td>1</td>\n",
       "      <td>1</td>\n",
       "      <td>3</td>\n",
       "      <td>0</td>\n",
       "      <td>0</td>\n",
       "      <td>0</td>\n",
       "      <td>1</td>\n",
       "      <td>7.0</td>\n",
       "      <td>1</td>\n",
       "      <td>1</td>\n",
       "      <td>7.0</td>\n",
       "      <td>8</td>\n",
       "      <td>8.0</td>\n",
       "      <td>3</td>\n",
       "      <td>6</td>\n",
       "      <td>2</td>\n",
       "      <td>0</td>\n",
       "      <td>12</td>\n",
       "    </tr>\n",
       "    <tr>\n",
       "      <th>3</th>\n",
       "      <td>1</td>\n",
       "      <td>3</td>\n",
       "      <td>3</td>\n",
       "      <td>0</td>\n",
       "      <td>1</td>\n",
       "      <td>1</td>\n",
       "      <td>1</td>\n",
       "      <td>8.0</td>\n",
       "      <td>2</td>\n",
       "      <td>0</td>\n",
       "      <td>1.0</td>\n",
       "      <td>4</td>\n",
       "      <td>12.0</td>\n",
       "      <td>3</td>\n",
       "      <td>5</td>\n",
       "      <td>3</td>\n",
       "      <td>1</td>\n",
       "      <td>4</td>\n",
       "    </tr>\n",
       "    <tr>\n",
       "      <th>4</th>\n",
       "      <td>1</td>\n",
       "      <td>2</td>\n",
       "      <td>9</td>\n",
       "      <td>1</td>\n",
       "      <td>1</td>\n",
       "      <td>0</td>\n",
       "      <td>1</td>\n",
       "      <td>12.0</td>\n",
       "      <td>2</td>\n",
       "      <td>1</td>\n",
       "      <td>2.0</td>\n",
       "      <td>6</td>\n",
       "      <td>14.0</td>\n",
       "      <td>1</td>\n",
       "      <td>1</td>\n",
       "      <td>3</td>\n",
       "      <td>1</td>\n",
       "      <td>12</td>\n",
       "    </tr>\n",
       "  </tbody>\n",
       "</table>\n",
       "</div>"
      ],
      "text/plain": [
       "   Sex  Cholesterol  Heart Rate  Diabetes  Smoking  Obesity  \\\n",
       "0    0            4           2         0        1        1   \n",
       "1    1            8           1         1        1        0   \n",
       "2    1            1           3         0        0        0   \n",
       "3    1            3           3         0        1        1   \n",
       "4    1            2           9         1        1        0   \n",
       "\n",
       "   Alcohol Consumption  Exercise Hours Per Week  Diet  \\\n",
       "0                    1                      6.0     0   \n",
       "1                    0                     13.0     1   \n",
       "2                    1                      7.0     1   \n",
       "3                    1                      8.0     2   \n",
       "4                    1                     12.0     2   \n",
       "\n",
       "   Previous Heart Problems  Sedentary Hours Per Day  Income   BMI  \\\n",
       "0                        0                      1.0       6   8.0   \n",
       "1                        1                      1.0       7  11.0   \n",
       "2                        1                      7.0       8   8.0   \n",
       "3                        0                      1.0       4  12.0   \n",
       "4                        1                      2.0       6  14.0   \n",
       "\n",
       "   Triglycerides  Sleep Hours Per Day  Continent  Heart Attack Risk  Sum BP  \n",
       "0              1                    3          0                  1       7  \n",
       "1              2                    4          1                  1      12  \n",
       "2              3                    6          2                  0      12  \n",
       "3              3                    5          3                  1       4  \n",
       "4              1                    1          3                  1      12  "
      ]
     },
     "execution_count": 13,
     "metadata": {},
     "output_type": "execute_result"
    }
   ],
   "source": [
    "#dropping binary cols we don't need\n",
    "train_df = train_df.drop(['Family History', 'Medication Use'],axis=1)\n",
    "test_def = test_df.drop(['Family History', 'Medication Use'],axis=1)\n",
    "train_df.head()"
   ]
  },
  {
   "cell_type": "markdown",
   "metadata": {},
   "source": [
    "## Model and train\n",
    "\n",
    "* Linear SVM, SVC and LR didn't converge\n",
    "* DT and RF overfit"
   ]
  },
  {
   "cell_type": "code",
   "execution_count": 14,
   "metadata": {},
   "outputs": [],
   "source": [
    "X_train = train_df.drop(\"Heart Attack Risk\", axis=1)\n",
    "Y_train = train_df[\"Heart Attack Risk\"]\n",
    "# X_test  = test_df.drop(\"Heart Attack Risk\", axis=1).copy()\n",
    "# X_train.shape, Y_train.shape, X_test.shape"
   ]
  },
  {
   "cell_type": "code",
   "execution_count": 16,
   "metadata": {},
   "outputs": [
    {
     "name": "stderr",
     "output_type": "stream",
     "text": [
      "C:\\Users\\Asus\\AppData\\Local\\Packages\\PythonSoftwareFoundation.Python.3.11_qbz5n2kfra8p0\\LocalCache\\local-packages\\Python311\\site-packages\\sklearn\\linear_model\\_logistic.py:469: ConvergenceWarning: lbfgs failed to converge (status=1):\n",
      "STOP: TOTAL NO. of ITERATIONS REACHED LIMIT.\n",
      "\n",
      "Increase the number of iterations (max_iter) or scale the data as shown in:\n",
      "    https://scikit-learn.org/stable/modules/preprocessing.html\n",
      "Please also refer to the documentation for alternative solver options:\n",
      "    https://scikit-learn.org/stable/modules/linear_model.html#logistic-regression\n",
      "  n_iter_i = _check_optimize_result(\n"
     ]
    },
    {
     "data": {
      "text/plain": [
       "64.28"
      ]
     },
     "execution_count": 16,
     "metadata": {},
     "output_type": "execute_result"
    }
   ],
   "source": [
    "logreg = LogisticRegression()\n",
    "logreg.fit(X_train, Y_train)\n",
    "# Y_pred = logreg.predict(X_train)\n",
    "acc_log = round(logreg.score(X_train, Y_train) * 100, 2)\n",
    "acc_log"
   ]
  },
  {
   "cell_type": "code",
   "execution_count": 17,
   "metadata": {},
   "outputs": [
    {
     "data": {
      "text/html": [
       "<div>\n",
       "<style scoped>\n",
       "    .dataframe tbody tr th:only-of-type {\n",
       "        vertical-align: middle;\n",
       "    }\n",
       "\n",
       "    .dataframe tbody tr th {\n",
       "        vertical-align: top;\n",
       "    }\n",
       "\n",
       "    .dataframe thead th {\n",
       "        text-align: right;\n",
       "    }\n",
       "</style>\n",
       "<table border=\"1\" class=\"dataframe\">\n",
       "  <thead>\n",
       "    <tr style=\"text-align: right;\">\n",
       "      <th></th>\n",
       "      <th>Feature</th>\n",
       "      <th>Correlation</th>\n",
       "    </tr>\n",
       "  </thead>\n",
       "  <tbody>\n",
       "    <tr>\n",
       "      <th>3</th>\n",
       "      <td>Smoking</td>\n",
       "      <td>0.142416</td>\n",
       "    </tr>\n",
       "    <tr>\n",
       "      <th>9</th>\n",
       "      <td>Sedentary Hours Per Day</td>\n",
       "      <td>0.059980</td>\n",
       "    </tr>\n",
       "    <tr>\n",
       "      <th>13</th>\n",
       "      <td>Sleep Hours Per Day</td>\n",
       "      <td>0.019514</td>\n",
       "    </tr>\n",
       "    <tr>\n",
       "      <th>1</th>\n",
       "      <td>Heart Rate</td>\n",
       "      <td>0.010902</td>\n",
       "    </tr>\n",
       "    <tr>\n",
       "      <th>16</th>\n",
       "      <td>Sum BP</td>\n",
       "      <td>0.010091</td>\n",
       "    </tr>\n",
       "    <tr>\n",
       "      <th>7</th>\n",
       "      <td>Diet</td>\n",
       "      <td>0.008242</td>\n",
       "    </tr>\n",
       "    <tr>\n",
       "      <th>11</th>\n",
       "      <td>BMI</td>\n",
       "      <td>0.007453</td>\n",
       "    </tr>\n",
       "    <tr>\n",
       "      <th>8</th>\n",
       "      <td>Previous Heart Problems</td>\n",
       "      <td>0.003611</td>\n",
       "    </tr>\n",
       "    <tr>\n",
       "      <th>10</th>\n",
       "      <td>Income</td>\n",
       "      <td>-0.000501</td>\n",
       "    </tr>\n",
       "    <tr>\n",
       "      <th>12</th>\n",
       "      <td>Triglycerides</td>\n",
       "      <td>-0.000661</td>\n",
       "    </tr>\n",
       "    <tr>\n",
       "      <th>2</th>\n",
       "      <td>Diabetes</td>\n",
       "      <td>-0.002031</td>\n",
       "    </tr>\n",
       "    <tr>\n",
       "      <th>15</th>\n",
       "      <td>Heart Attack Risk</td>\n",
       "      <td>-0.004713</td>\n",
       "    </tr>\n",
       "    <tr>\n",
       "      <th>14</th>\n",
       "      <td>Continent</td>\n",
       "      <td>-0.016674</td>\n",
       "    </tr>\n",
       "    <tr>\n",
       "      <th>0</th>\n",
       "      <td>Cholesterol</td>\n",
       "      <td>-0.035271</td>\n",
       "    </tr>\n",
       "    <tr>\n",
       "      <th>6</th>\n",
       "      <td>Exercise Hours Per Week</td>\n",
       "      <td>-0.043240</td>\n",
       "    </tr>\n",
       "    <tr>\n",
       "      <th>5</th>\n",
       "      <td>Alcohol Consumption</td>\n",
       "      <td>-0.052876</td>\n",
       "    </tr>\n",
       "    <tr>\n",
       "      <th>4</th>\n",
       "      <td>Obesity</td>\n",
       "      <td>-0.065796</td>\n",
       "    </tr>\n",
       "  </tbody>\n",
       "</table>\n",
       "</div>"
      ],
      "text/plain": [
       "                    Feature  Correlation\n",
       "3                   Smoking     0.142416\n",
       "9   Sedentary Hours Per Day     0.059980\n",
       "13      Sleep Hours Per Day     0.019514\n",
       "1                Heart Rate     0.010902\n",
       "16                   Sum BP     0.010091\n",
       "7                      Diet     0.008242\n",
       "11                      BMI     0.007453\n",
       "8   Previous Heart Problems     0.003611\n",
       "10                   Income    -0.000501\n",
       "12            Triglycerides    -0.000661\n",
       "2                  Diabetes    -0.002031\n",
       "15        Heart Attack Risk    -0.004713\n",
       "14                Continent    -0.016674\n",
       "0               Cholesterol    -0.035271\n",
       "6   Exercise Hours Per Week    -0.043240\n",
       "5       Alcohol Consumption    -0.052876\n",
       "4                   Obesity    -0.065796"
      ]
     },
     "execution_count": 17,
     "metadata": {},
     "output_type": "execute_result"
    }
   ],
   "source": [
    "coeff_df = pd.DataFrame(train_df.columns.delete(0))\n",
    "coeff_df.columns = ['Feature']\n",
    "coeff_df[\"Correlation\"] = pd.Series(logreg.coef_[0])\n",
    "\n",
    "coeff_df.sort_values(by='Correlation', ascending=False)"
   ]
  },
  {
   "cell_type": "code",
   "execution_count": 24,
   "metadata": {},
   "outputs": [
    {
     "data": {
      "text/plain": [
       "64.28"
      ]
     },
     "execution_count": 24,
     "metadata": {},
     "output_type": "execute_result"
    }
   ],
   "source": [
    "svc = SVC()\n",
    "svc.fit(X_train, Y_train)\n",
    "# Y_pred = svc.predict(X_test)\n",
    "acc_svc = round(svc.score(X_train, Y_train) * 100, 2)\n",
    "acc_svc"
   ]
  },
  {
   "cell_type": "code",
   "execution_count": 23,
   "metadata": {},
   "outputs": [
    {
     "name": "stderr",
     "output_type": "stream",
     "text": [
      "C:\\Users\\Asus\\AppData\\Local\\Packages\\PythonSoftwareFoundation.Python.3.11_qbz5n2kfra8p0\\LocalCache\\local-packages\\Python311\\site-packages\\sklearn\\svm\\_classes.py:31: FutureWarning: The default value of `dual` will change from `True` to `'auto'` in 1.5. Set the value of `dual` explicitly to suppress the warning.\n",
      "  warnings.warn(\n",
      "C:\\Users\\Asus\\AppData\\Local\\Packages\\PythonSoftwareFoundation.Python.3.11_qbz5n2kfra8p0\\LocalCache\\local-packages\\Python311\\site-packages\\sklearn\\svm\\_base.py:1237: ConvergenceWarning: Liblinear failed to converge, increase the number of iterations.\n",
      "  warnings.warn(\n"
     ]
    },
    {
     "data": {
      "text/plain": [
       "64.28"
      ]
     },
     "execution_count": 23,
     "metadata": {},
     "output_type": "execute_result"
    }
   ],
   "source": [
    "linear_svc = LinearSVC()\n",
    "linear_svc.fit(X_train, Y_train)\n",
    "# Y_pred = linear_svc.predict(X_test)\n",
    "acc_linear_svc = round(linear_svc.score(X_train, Y_train) * 100, 2)\n",
    "acc_linear_svc"
   ]
  },
  {
   "cell_type": "code",
   "execution_count": 28,
   "metadata": {},
   "outputs": [
    {
     "data": {
      "text/plain": [
       "100.0"
      ]
     },
     "execution_count": 28,
     "metadata": {},
     "output_type": "execute_result"
    }
   ],
   "source": [
    "decision_tree = DecisionTreeClassifier()\n",
    "decision_tree.fit(X_train, Y_train)\n",
    "# Y_pred = decision_tree.predict(X_test)\n",
    "acc_decision_tree = round(decision_tree.score(X_train, Y_train) * 100, 2)\n",
    "acc_decision_tree"
   ]
  },
  {
   "cell_type": "code",
   "execution_count": 30,
   "metadata": {},
   "outputs": [
    {
     "data": {
      "text/plain": [
       "100.0"
      ]
     },
     "execution_count": 30,
     "metadata": {},
     "output_type": "execute_result"
    }
   ],
   "source": [
    "random_forest = RandomForestClassifier(n_estimators=100)\n",
    "random_forest.fit(X_train, Y_train)\n",
    "# Y_pred = random_forest.predict(X_test)\n",
    "random_forest.score(X_train, Y_train)\n",
    "acc_random_forest = round(random_forest.score(X_train, Y_train) * 100, 2)\n",
    "acc_random_forest"
   ]
  },
  {
   "cell_type": "code",
   "execution_count": 31,
   "metadata": {},
   "outputs": [
    {
     "data": {
      "text/html": [
       "<div>\n",
       "<style scoped>\n",
       "    .dataframe tbody tr th:only-of-type {\n",
       "        vertical-align: middle;\n",
       "    }\n",
       "\n",
       "    .dataframe tbody tr th {\n",
       "        vertical-align: top;\n",
       "    }\n",
       "\n",
       "    .dataframe thead th {\n",
       "        text-align: right;\n",
       "    }\n",
       "</style>\n",
       "<table border=\"1\" class=\"dataframe\">\n",
       "  <thead>\n",
       "    <tr style=\"text-align: right;\">\n",
       "      <th></th>\n",
       "      <th>Model</th>\n",
       "      <th>Score</th>\n",
       "    </tr>\n",
       "  </thead>\n",
       "  <tbody>\n",
       "    <tr>\n",
       "      <th>2</th>\n",
       "      <td>Random Forest</td>\n",
       "      <td>100.00</td>\n",
       "    </tr>\n",
       "    <tr>\n",
       "      <th>4</th>\n",
       "      <td>Decision Tree</td>\n",
       "      <td>100.00</td>\n",
       "    </tr>\n",
       "    <tr>\n",
       "      <th>0</th>\n",
       "      <td>Support Vector Machines</td>\n",
       "      <td>64.28</td>\n",
       "    </tr>\n",
       "    <tr>\n",
       "      <th>1</th>\n",
       "      <td>Logistic Regression</td>\n",
       "      <td>64.28</td>\n",
       "    </tr>\n",
       "    <tr>\n",
       "      <th>3</th>\n",
       "      <td>Linear SVC</td>\n",
       "      <td>64.28</td>\n",
       "    </tr>\n",
       "  </tbody>\n",
       "</table>\n",
       "</div>"
      ],
      "text/plain": [
       "                     Model   Score\n",
       "2            Random Forest  100.00\n",
       "4            Decision Tree  100.00\n",
       "0  Support Vector Machines   64.28\n",
       "1      Logistic Regression   64.28\n",
       "3               Linear SVC   64.28"
      ]
     },
     "execution_count": 31,
     "metadata": {},
     "output_type": "execute_result"
    }
   ],
   "source": [
    "models = pd.DataFrame({\n",
    "    'Model': ['Support Vector Machines', 'Logistic Regression', \n",
    "              'Random Forest', 'Linear SVC', \n",
    "              'Decision Tree'],\n",
    "    'Score': [acc_svc, acc_log, \n",
    "              acc_random_forest, acc_linear_svc, acc_decision_tree]})\n",
    "models.sort_values(by='Score', ascending=False)"
   ]
  },
  {
   "cell_type": "code",
   "execution_count": null,
   "metadata": {},
   "outputs": [],
   "source": []
  }
 ],
 "metadata": {
  "kernelspec": {
   "display_name": "Python 3",
   "language": "python",
   "name": "python3"
  },
  "language_info": {
   "codemirror_mode": {
    "name": "ipython",
    "version": 3
   },
   "file_extension": ".py",
   "mimetype": "text/x-python",
   "name": "python",
   "nbconvert_exporter": "python",
   "pygments_lexer": "ipython3",
   "version": "3.11.8"
  }
 },
 "nbformat": 4,
 "nbformat_minor": 2
}
